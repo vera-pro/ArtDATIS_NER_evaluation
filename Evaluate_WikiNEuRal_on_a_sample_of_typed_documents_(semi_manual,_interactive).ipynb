{
  "nbformat": 4,
  "nbformat_minor": 0,
  "metadata": {
    "colab": {
      "provenance": [],
      "authorship_tag": "ABX9TyOUvAVXJ046AJRw7URF9IvQ",
      "include_colab_link": true
    },
    "kernelspec": {
      "name": "python3",
      "display_name": "Python 3"
    },
    "language_info": {
      "name": "python"
    }
  },
  "cells": [
    {
      "cell_type": "markdown",
      "metadata": {
        "id": "view-in-github",
        "colab_type": "text"
      },
      "source": [
        "<a href=\"https://colab.research.google.com/github/vera-pro/ArtDATIS_NER_evaluation/blob/main/Evaluate_WikiNEuRal_on_a_sample_of_typed_documents_(semi_manual%2C_interactive).ipynb\" target=\"_parent\"><img src=\"https://colab.research.google.com/assets/colab-badge.svg\" alt=\"Open In Colab\"/></a>"
      ]
    },
    {
      "cell_type": "code",
      "execution_count": 1,
      "metadata": {
        "id": "qSm0XbwSZ_Bp"
      },
      "outputs": [],
      "source": [
        "import spacy\n",
        "from spacy import displacy\n",
        "import seaborn as sns\n",
        "\n",
        "def visualise(text, preds):\n",
        "    ## Step 1: adding entities\n",
        "    entities = []\n",
        "    nlp = spacy.blank(\"nl\")  # it should work with any language\n",
        "    doc = nlp(text)\n",
        "    \n",
        "    ner_map = {} ## NB: our ner_map is reversed compared to the example\n",
        "    cur_type = ''\n",
        "    cur_start, cur_end = 0, 0\n",
        "    false_positives = []\n",
        "\n",
        "    for pred in preds: \n",
        "        ent = pred['entity']\n",
        "        if ent.startswith('B') or pred['start'] > cur_end+1: ## a dirty hack in case it failed to predict 'B'\n",
        "            ## Adding the previous entity if it's not empty\n",
        "            if cur_type != '':\n",
        "                char_span = doc.char_span(cur_start, cur_end, cur_type)\n",
        "                if char_span:\n",
        "                    entities.append(char_span)\n",
        "                else:\n",
        "                    false_positives.append((cur_start, cur_end, cur_type))\n",
        "\n",
        "            ## Processing the new entity\n",
        "            cur_type = ent[2:]\n",
        "            if cur_type not in ner_map: ## it's only 'B' in the example\n",
        "                ner_map[cur_type] = len(ner_map)+1\n",
        "            cur_start = pred['start']\n",
        "            cur_end = pred['end']\n",
        "        else: ## there's only 'B' and 'I', 'O' is not included\n",
        "            cur_end = pred['end']\n",
        "\n",
        "    ## Adding the last one\n",
        "    if cur_type != '':\n",
        "        char_span = doc.char_span(cur_start, cur_end, cur_type)\n",
        "        if char_span:\n",
        "            entities.append(char_span)\n",
        "        else:\n",
        "            false_positives.append((cur_start, cur_end, cur_type))\n",
        "            \n",
        "    doc.ents = entities\n",
        "    \n",
        "    ## Step 2: visualising \n",
        "    colours = sns.color_palette(\"Set2\", len(ner_map)).as_hex()\n",
        "    options = {\"ents\": list(ner_map.keys()),\n",
        "               \"colors\": {ent: colours[ner_map[ent]-1] for ent in ner_map.keys()}\n",
        "              }\n",
        "\n",
        "    displacy_html = displacy.render(doc, style=\"ent\", options=options,jupyter=True)\n",
        "    return false_positives"
      ]
    },
    {
      "cell_type": "code",
      "source": [
        "!gdown 1lt7WSQuWuLRv6gBSYn0zvM03zb5RZ2Vr -O data --folder"
      ],
      "metadata": {
        "colab": {
          "base_uri": "https://localhost:8080/"
        },
        "id": "66iVzfHQlORH",
        "outputId": "005a84a8-b104-4d4a-916b-406b995d7749"
      },
      "execution_count": 2,
      "outputs": [
        {
          "output_type": "stream",
          "name": "stdout",
          "text": [
            "Retrieving folder list\n",
            "Processing file 1HaSHxqnc4LgBCNBBCOoaZAiQugdPkkmf ner_evaluation_typed_samples_new.p\n",
            "Retrieving folder list completed\n",
            "Building directory structure\n",
            "Building directory structure completed\n",
            "Downloading...\n",
            "From: https://drive.google.com/uc?id=1HaSHxqnc4LgBCNBBCOoaZAiQugdPkkmf\n",
            "To: /content/data/ner_evaluation_typed_samples_new.p\n",
            "100% 1.08M/1.08M [00:00<00:00, 76.0MB/s]\n",
            "Download completed\n"
          ]
        }
      ]
    },
    {
      "cell_type": "code",
      "source": [
        "import pickle\n",
        "data = pickle.load(open('/content/data/ner_evaluation_typed_samples_new.p','rb'))"
      ],
      "metadata": {
        "id": "DrbYSrK3aW2h"
      },
      "execution_count": 3,
      "outputs": []
    },
    {
      "cell_type": "code",
      "source": [
        "for entry in data: \n",
        "    if 'false_positives' in entry:\n",
        "        continue # already processed\n",
        "    false_positives = visualise(entry['text'],entry['ner'])\n",
        "    false_negatives = []\n",
        "    \n",
        "    mention = ''\n",
        "    cur_start = 0\n",
        "    print('==============')\n",
        "    print(\"Are there any entities that we've missed?\")\n",
        "    print(\"Please enter them one by one: copy-paste the mentions from the text\")\n",
        "    print(\"in the order that they appear in the text\")\n",
        "    while mention != 'X':\n",
        "        mention = input(\"Copy-paste the next entity or type \\\"X\\\" to finish, then press enter\")\n",
        "        start = entry['text'][cur_start:].find(mention)\n",
        "        false_negatives.append((start, start+len(mention), 'ADDED'))\n",
        "        cur_start = start\n",
        "        \n",
        "    notes = input(\"Do you have any comments about this text? Please type here and press enter\")\n",
        "    \n",
        "    entry.update({'false_positives': false_positives,\n",
        "                 'false_negatives':false_negatives,\n",
        "                 'notes': notes})\n",
        "    pickle.dump(data, open('/content/data/ner_evaluation_typed_samples_new.p','wb'))\n",
        "    to_continue = input('Press enter to continue or X to exit')\n",
        "    if to_continue == 'X':\n",
        "      print('****************')\n",
        "      print('Please don\\'t forget to save the results!')\n",
        "      print('Find the file ner_evaluation_typed_samples_new.p in the data folder on the left and click Download')\n",
        "      print('Then upload this file to: https://drive.google.com/drive/u/0/folders/1lt7WSQuWuLRv6gBSYn0zvM03zb5RZ2Vr')\n",
        "      print('It\\s ok to overwrite the old file when uploading')\n",
        "      print('Thank you!')\n",
        "      break"
      ],
      "metadata": {
        "id": "TeeQHsadcKXV",
        "colab": {
          "base_uri": "https://localhost:8080/",
          "height": 1000
        },
        "outputId": "139e9d89-a405-4ee7-fc93-8625d7995861"
      },
      "execution_count": 4,
      "outputs": [
        {
          "output_type": "display_data",
          "data": {
            "text/plain": [
              "<IPython.core.display.HTML object>"
            ],
            "text/html": [
              "<span class=\"tex2jax_ignore\"><div class=\"entities\" style=\"line-height: 2.5; direction: ltr\">Nach facharztlicher Begutachtung</br>eignet sich die Rodacher Therme</br>insbesondere zur Behandlung von:</br></br>Gelenkabnutzungserscheinungen,</br>Erkrankungen des allgemeinen Be-</br>wegungsapparates, Bandscheiben-</br>leiden, Erkrankungen des sogenann-</br>ten rheumatischen Formenkreises,</br>Nervenentzindungen, Durchblu-</br>tungsst6rungen und Frauenleiden.</br></br>Nicht zu empfehlen ist die Benut-</br>zung der Therme bis zu 6 Monaten</br>nach einem Herzinfarkt, bei schweren</br>Herz- und Kreislaufleiden sowie bei</br>Tbc-Erkrankungen. Der Zutritt fur</br>Kinder unter 10 Jahren ist nur mit</br>Rezept oder arztlichem Attest még-</br>lich.</br></br>Um Ihnen ein ehrliches Urlaubs-</br>Angebot machen zu konnen, werden</br>wir standig bemunht sein, Ihren Wun-</br>schen — soweit es eben nur geht —</br>gerecht zu werden.</br></br>Auch daruber haben wir uns Ge-</br>danken gemacht: sollten vielleicht</br>anfangs zwei oder drei Wochen zuviel</br>sein?</br></br>Unser ,,3 oder 7 herz(og)liche</br>Tage‘-Angebot beinhaltet alles Se-</br>henswerte. Es findet immer regeren</br>Zuspruch.</br></br>Kuraufenthalte in \n",
              "<mark class=\"entity\" style=\"background: #66c2a5; padding: 0.45em 0.6em; margin: 0 0.25em; line-height: 1; border-radius: 0.35em;\">\n",
              "    Rodach\n",
              "    <span style=\"font-size: 0.8em; font-weight: bold; line-height: 1; border-radius: 0.35em; vertical-align: middle; margin-left: 0.5rem\">LOC</span>\n",
              "</mark>\n",
              ", Urlaub</br>auf dem Bauernhof (private Vermie-</br>ter) und vieles, vieles mehr: Sind Sie</br>neugierig geworden?</br></br> </br></br> </br></br>Das \n",
              "<mark class=\"entity\" style=\"background: #66c2a5; padding: 0.45em 0.6em; margin: 0 0.25em; line-height: 1; border-radius: 0.35em;\">\n",
              "    SchloB Rosenau\n",
              "    <span style=\"font-size: 0.8em; font-weight: bold; line-height: 1; border-radius: 0.35em; vertical-align: middle; margin-left: 0.5rem\">LOC</span>\n",
              "</mark>\n",
              " in</br>\n",
              "<mark class=\"entity\" style=\"background: #66c2a5; padding: 0.45em 0.6em; margin: 0 0.25em; line-height: 1; border-radius: 0.35em;\">\n",
              "    Rodental\n",
              "    <span style=\"font-size: 0.8em; font-weight: bold; line-height: 1; border-radius: 0.35em; vertical-align: middle; margin-left: 0.5rem\">LOC</span>\n",
              "</mark>\n",
              ". Geburtsstatte</br>von Prinz \n",
              "<mark class=\"entity\" style=\"background: #fc8d62; padding: 0.45em 0.6em; margin: 0 0.25em; line-height: 1; border-radius: 0.35em;\">\n",
              "    Albert\n",
              "    <span style=\"font-size: 0.8em; font-weight: bold; line-height: 1; border-radius: 0.35em; vertical-align: middle; margin-left: 0.5rem\">PER</span>\n",
              "</mark>\n",
              ", dem</br>spateren Gemahl der</br>Queen \n",
              "<mark class=\"entity\" style=\"background: #fc8d62; padding: 0.45em 0.6em; margin: 0 0.25em; line-height: 1; border-radius: 0.35em;\">\n",
              "    Victoria\n",
              "    <span style=\"font-size: 0.8em; font-weight: bold; line-height: 1; border-radius: 0.35em; vertical-align: middle; margin-left: 0.5rem\">PER</span>\n",
              "</mark>\n",
              ", «K6nigin</br>von \n",
              "<mark class=\"entity\" style=\"background: #66c2a5; padding: 0.45em 0.6em; margin: 0 0.25em; line-height: 1; border-radius: 0.35em;\">\n",
              "    England\n",
              "    <span style=\"font-size: 0.8em; font-weight: bold; line-height: 1; border-radius: 0.35em; vertical-align: middle; margin-left: 0.5rem\">LOC</span>\n",
              "</mark>\n",
              ", und seinem</br>Bruder, Herzog \n",
              "<mark class=\"entity\" style=\"background: #fc8d62; padding: 0.45em 0.6em; margin: 0 0.25em; line-height: 1; border-radius: 0.35em;\">\n",
              "    Ernst ll.\n",
              "von Sachsen-Coburg und\n",
              "Gotha\n",
              "    <span style=\"font-size: 0.8em; font-weight: bold; line-height: 1; border-radius: 0.35em; vertical-align: middle; margin-left: 0.5rem\">PER</span>\n",
              "</mark>\n",
              ".</br></br>Das Lautertal bildet Som-</br>mer wie Winter einen</br>idealen Ausgangspunkt</br>fur schoénste Wanderun-</br>gen — Uberall findet man</br>noch unberuhrte Natur</br>und Bilder aus langst ver-</br>gangenen Zeiten.</br></br> </br></br> </br></br> </br></br> </br></br> </br></br>Der Waldfriedensee und</br>seine Umgebung sind</br>durch ihre Wanderm6g-</br>lichkeiten ein beliebtes</br>Ausflugsziel.</br></br>Romantische Bergdorfer</br>(hier Héhn) — Neustadt</br>zugehGérig — erinnern oft</br>an die langst vergangene</br>Zeit.</br></br>Der Harlekinbrunnen vor</br>dem Trachtenpuppenmu-</br>seum in \n",
              "<mark class=\"entity\" style=\"background: #66c2a5; padding: 0.45em 0.6em; margin: 0 0.25em; line-height: 1; border-radius: 0.35em;\">\n",
              "    Neustadt bei Co-\n",
              "burg\n",
              "    <span style=\"font-size: 0.8em; font-weight: bold; line-height: 1; border-radius: 0.35em; vertical-align: middle; margin-left: 0.5rem\">LOC</span>\n",
              "</mark>\n",
              ". Im Laufe von vier</br>Jahrzehnten ist es durch</br>seine Sammlungen zu</br>dem bedeutendsten Mu-</br>seum dieser Art geworden</br>— eine einmalige vélker-</br>kundliche Lehrschau mit</br>Uber 1000 verschiedenen</br>Trachtenpuppen.</br></br> </br></br> </br></br> </br></br> </br></br> </br></br> </br></br> </br></br>Die Stadt \n",
              "<mark class=\"entity\" style=\"background: #66c2a5; padding: 0.45em 0.6em; margin: 0 0.25em; line-height: 1; border-radius: 0.35em;\">\n",
              "    Rodach\n",
              "    <span style=\"font-size: 0.8em; font-weight: bold; line-height: 1; border-radius: 0.35em; vertical-align: middle; margin-left: 0.5rem\">LOC</span>\n",
              "</mark>\n",
              " hat</br>nicht nur ein besonders</br>schénes Rathaus und</br>herrliche Wanderwege in</br>der naheren Umgebung,</br>sondern auch...</br></br> </br></br>... Viele guterhaltene</br>Fachwerkhauser, die der</br>Stadt einen romantischen</br>Reiz verleihen. Im Hinter-</br>grund die Stadtkirche.</br></br>Das ,,Gretenhaus* in</br>\n",
              "<mark class=\"entity\" style=\"background: #66c2a5; padding: 0.45em 0.6em; margin: 0 0.25em; line-height: 1; border-radius: 0.35em;\">\n",
              "    Meeder\n",
              "    <span style=\"font-size: 0.8em; font-weight: bold; line-height: 1; border-radius: 0.35em; vertical-align: middle; margin-left: 0.5rem\">LOC</span>\n",
              "</mark>\n",
              " — jetzt Sitz einer</br>Filiale der Vereinigten Co-</br>burger Sparkassen — ist</br>ein prachtiger Fachwerk-</br>bau.</br></br> </br></br> </br></br> </br></br> </br></br> </br></br> </br></br> </br></br>Seit 1976 kann \n",
              "<mark class=\"entity\" style=\"background: #66c2a5; padding: 0.45em 0.6em; margin: 0 0.25em; line-height: 1; border-radius: 0.35em;\">\n",
              "    Rodach\n",
              "    <span style=\"font-size: 0.8em; font-weight: bold; line-height: 1; border-radius: 0.35em; vertical-align: middle; margin-left: 0.5rem\">LOC</span>\n",
              "</mark>\n",
              "</br>mit einer besonderen At-</br>traktion aufwarten: mit</br>seinem Thermalbad, eine</br>der warmsten Quellen</br>Bayerns (34° Celsius). Die</br>Calcium-Magnesium-</br>Hydrogen-Carbonat-Sul-</br>fat-Quelle eignet sich zur</br>Behandlung verschiede-</br>ner Krankheiten.</br></br> </br></br>|</br></br>\\</br>|</br></br>TT</br>car</div></span>"
            ]
          },
          "metadata": {}
        },
        {
          "output_type": "stream",
          "name": "stdout",
          "text": [
            "==============\n",
            "Are there any entities that we've missed?\n",
            "Please enter them one by one: copy-paste the mentions from the text\n",
            "in the order that they appear in the text\n"
          ]
        },
        {
          "output_type": "error",
          "ename": "KeyboardInterrupt",
          "evalue": "ignored",
          "traceback": [
            "\u001b[0;31m---------------------------------------------------------------------------\u001b[0m",
            "\u001b[0;31mKeyboardInterrupt\u001b[0m                         Traceback (most recent call last)",
            "\u001b[0;32m<ipython-input-4-2b9a80f44ece>\u001b[0m in \u001b[0;36m<cell line: 1>\u001b[0;34m()\u001b[0m\n\u001b[1;32m     12\u001b[0m     \u001b[0mprint\u001b[0m\u001b[0;34m(\u001b[0m\u001b[0;34m\"in the order that they appear in the text\"\u001b[0m\u001b[0;34m)\u001b[0m\u001b[0;34m\u001b[0m\u001b[0;34m\u001b[0m\u001b[0m\n\u001b[1;32m     13\u001b[0m     \u001b[0;32mwhile\u001b[0m \u001b[0mmention\u001b[0m \u001b[0;34m!=\u001b[0m \u001b[0;34m'X'\u001b[0m\u001b[0;34m:\u001b[0m\u001b[0;34m\u001b[0m\u001b[0;34m\u001b[0m\u001b[0m\n\u001b[0;32m---> 14\u001b[0;31m         \u001b[0mmention\u001b[0m \u001b[0;34m=\u001b[0m \u001b[0minput\u001b[0m\u001b[0;34m(\u001b[0m\u001b[0;34m\"Copy-paste the next entity or type \\\"X\\\" to finish, then press enter\"\u001b[0m\u001b[0;34m)\u001b[0m\u001b[0;34m\u001b[0m\u001b[0;34m\u001b[0m\u001b[0m\n\u001b[0m\u001b[1;32m     15\u001b[0m         \u001b[0mstart\u001b[0m \u001b[0;34m=\u001b[0m \u001b[0mentry\u001b[0m\u001b[0;34m[\u001b[0m\u001b[0;34m'text'\u001b[0m\u001b[0;34m]\u001b[0m\u001b[0;34m[\u001b[0m\u001b[0mcur_start\u001b[0m\u001b[0;34m:\u001b[0m\u001b[0;34m]\u001b[0m\u001b[0;34m.\u001b[0m\u001b[0mfind\u001b[0m\u001b[0;34m(\u001b[0m\u001b[0mmention\u001b[0m\u001b[0;34m)\u001b[0m\u001b[0;34m\u001b[0m\u001b[0;34m\u001b[0m\u001b[0m\n\u001b[1;32m     16\u001b[0m         \u001b[0mfalse_negatives\u001b[0m\u001b[0;34m.\u001b[0m\u001b[0mappend\u001b[0m\u001b[0;34m(\u001b[0m\u001b[0;34m(\u001b[0m\u001b[0mstart\u001b[0m\u001b[0;34m,\u001b[0m \u001b[0mstart\u001b[0m\u001b[0;34m+\u001b[0m\u001b[0mlen\u001b[0m\u001b[0;34m(\u001b[0m\u001b[0mmention\u001b[0m\u001b[0;34m)\u001b[0m\u001b[0;34m,\u001b[0m \u001b[0;34m'ADDED'\u001b[0m\u001b[0;34m)\u001b[0m\u001b[0;34m)\u001b[0m\u001b[0;34m\u001b[0m\u001b[0;34m\u001b[0m\u001b[0m\n",
            "\u001b[0;32m/usr/local/lib/python3.10/dist-packages/ipykernel/kernelbase.py\u001b[0m in \u001b[0;36mraw_input\u001b[0;34m(self, prompt)\u001b[0m\n\u001b[1;32m    849\u001b[0m                 \u001b[0;34m\"raw_input was called, but this frontend does not support input requests.\"\u001b[0m\u001b[0;34m\u001b[0m\u001b[0;34m\u001b[0m\u001b[0m\n\u001b[1;32m    850\u001b[0m             )\n\u001b[0;32m--> 851\u001b[0;31m         return self._input_request(str(prompt),\n\u001b[0m\u001b[1;32m    852\u001b[0m             \u001b[0mself\u001b[0m\u001b[0;34m.\u001b[0m\u001b[0m_parent_ident\u001b[0m\u001b[0;34m,\u001b[0m\u001b[0;34m\u001b[0m\u001b[0;34m\u001b[0m\u001b[0m\n\u001b[1;32m    853\u001b[0m             \u001b[0mself\u001b[0m\u001b[0;34m.\u001b[0m\u001b[0m_parent_header\u001b[0m\u001b[0;34m,\u001b[0m\u001b[0;34m\u001b[0m\u001b[0;34m\u001b[0m\u001b[0m\n",
            "\u001b[0;32m/usr/local/lib/python3.10/dist-packages/ipykernel/kernelbase.py\u001b[0m in \u001b[0;36m_input_request\u001b[0;34m(self, prompt, ident, parent, password)\u001b[0m\n\u001b[1;32m    893\u001b[0m             \u001b[0;32mexcept\u001b[0m \u001b[0mKeyboardInterrupt\u001b[0m\u001b[0;34m:\u001b[0m\u001b[0;34m\u001b[0m\u001b[0;34m\u001b[0m\u001b[0m\n\u001b[1;32m    894\u001b[0m                 \u001b[0;31m# re-raise KeyboardInterrupt, to truncate traceback\u001b[0m\u001b[0;34m\u001b[0m\u001b[0;34m\u001b[0m\u001b[0m\n\u001b[0;32m--> 895\u001b[0;31m                 \u001b[0;32mraise\u001b[0m \u001b[0mKeyboardInterrupt\u001b[0m\u001b[0;34m(\u001b[0m\u001b[0;34m\"Interrupted by user\"\u001b[0m\u001b[0;34m)\u001b[0m \u001b[0;32mfrom\u001b[0m \u001b[0;32mNone\u001b[0m\u001b[0;34m\u001b[0m\u001b[0;34m\u001b[0m\u001b[0m\n\u001b[0m\u001b[1;32m    896\u001b[0m             \u001b[0;32mexcept\u001b[0m \u001b[0mException\u001b[0m \u001b[0;32mas\u001b[0m \u001b[0me\u001b[0m\u001b[0;34m:\u001b[0m\u001b[0;34m\u001b[0m\u001b[0;34m\u001b[0m\u001b[0m\n\u001b[1;32m    897\u001b[0m                 \u001b[0mself\u001b[0m\u001b[0;34m.\u001b[0m\u001b[0mlog\u001b[0m\u001b[0;34m.\u001b[0m\u001b[0mwarning\u001b[0m\u001b[0;34m(\u001b[0m\u001b[0;34m\"Invalid Message:\"\u001b[0m\u001b[0;34m,\u001b[0m \u001b[0mexc_info\u001b[0m\u001b[0;34m=\u001b[0m\u001b[0;32mTrue\u001b[0m\u001b[0;34m)\u001b[0m\u001b[0;34m\u001b[0m\u001b[0;34m\u001b[0m\u001b[0m\n",
            "\u001b[0;31mKeyboardInterrupt\u001b[0m: Interrupted by user"
          ]
        }
      ]
    },
    {
      "cell_type": "code",
      "source": [],
      "metadata": {
        "id": "PiUB8_CGnLxo"
      },
      "execution_count": null,
      "outputs": []
    },
    {
      "cell_type": "code",
      "source": [],
      "metadata": {
        "id": "PCinQ2K7mLRd"
      },
      "execution_count": null,
      "outputs": []
    }
  ]
}